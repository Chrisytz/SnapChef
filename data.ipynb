{
 "cells": [
  {
   "cell_type": "code",
   "execution_count": 1,
   "metadata": {
    "collapsed": true
   },
   "outputs": [],
   "source": [
    "import fiftyone as fo\n",
    "fo.config.requirement_error_level = 1"
   ]
  },
  {
   "cell_type": "code",
   "execution_count": 2,
   "outputs": [
    {
     "name": "stdout",
     "output_type": "stream",
     "text": [
      " 100% |█████████████| 22823/22823 [19.5s elapsed, 0s remaining, 1.8K samples/s]       \n"
     ]
    }
   ],
   "source": [
    "# bad, all numbers\n",
    "POO = fo.Dataset.from_dir(\n",
    "    dataset_dir=\"test_yolo\",\n",
    "    dataset_type=fo.types.YOLOv5Dataset\n",
    ")\n",
    "\n",
    "\n",
    "# PEE = fo.Dataset.from_dir(\n",
    "#     dataset_dir=\"TRAIN\",\n",
    "#     dataset_type=fo.types.COCODetectionDataset\n",
    "# )\n",
    "#\n",
    "#\n",
    "# EEK = fo.Dataset.from_dir(\n",
    "#     dataset_dir=\"VALID\",\n",
    "#     dataset_type=fo.types.COCODetectionDataset\n",
    "# )\n",
    "# molang_dataset = fo.Dataset.from_dir(\"\n",
    "#     dataset_dir=\"Molang.v2i.coco/test\",\n",
    "#     dataset_type=fo.types.COCODetectionDataset\n",
    "# )\n",
    "\n",
    "#\n",
    "# # this one is good\n",
    "# vegetables_dataset = fo.Dataset.from_dir(\n",
    "#     dataset_dir=\"Vegetables.v5i.coco/train\",\n",
    "#     dataset_type=fo.types.COCODetectionDataset\n",
    "# )\n",
    "\n"
   ],
   "metadata": {
    "collapsed": false
   }
  },
  {
   "cell_type": "code",
   "execution_count": 3,
   "outputs": [
    {
     "data": {
      "text/plain": "<IPython.lib.display.IFrame at 0x289b14c10>",
      "text/html": "\n        <iframe\n            width=\"100%\"\n            height=\"800\"\n            src=\"http://localhost:5151/?notebook=True&subscription=dd357b65-2311-4990-a2dd-fbae31e3145b\"\n            frameborder=\"0\"\n            allowfullscreen\n            \n        ></iframe>\n        "
     },
     "metadata": {},
     "output_type": "display_data"
    }
   ],
   "source": [
    "session = fo.launch_app(POO, port=5151)\n"
   ],
   "metadata": {
    "collapsed": false
   }
  },
  {
   "cell_type": "code",
   "execution_count": 9,
   "outputs": [
    {
     "ename": "SyntaxError",
     "evalue": "invalid syntax (2071638216.py, line 1)",
     "output_type": "error",
     "traceback": [
      "\u001B[0;36m  Cell \u001B[0;32mIn[9], line 1\u001B[0;36m\u001B[0m\n\u001B[0;31m    |a\u001B[0m\n\u001B[0m    ^\u001B[0m\n\u001B[0;31mSyntaxError\u001B[0m\u001B[0;31m:\u001B[0m invalid syntax\n"
     ]
    }
   ],
   "source": [
    "|a\n"
   ],
   "metadata": {
    "collapsed": false
   }
  },
  {
   "cell_type": "code",
   "execution_count": null,
   "outputs": [],
   "source": [],
   "metadata": {
    "collapsed": false
   }
  }
 ],
 "metadata": {
  "kernelspec": {
   "display_name": "Python 3",
   "language": "python",
   "name": "python3"
  },
  "language_info": {
   "codemirror_mode": {
    "name": "ipython",
    "version": 2
   },
   "file_extension": ".py",
   "mimetype": "text/x-python",
   "name": "python",
   "nbconvert_exporter": "python",
   "pygments_lexer": "ipython2",
   "version": "2.7.6"
  }
 },
 "nbformat": 4,
 "nbformat_minor": 0
}
